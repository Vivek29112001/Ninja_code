{
 "cells": [
  {
   "cell_type": "code",
   "execution_count": null,
   "id": "0a7f9b49",
   "metadata": {},
   "outputs": [],
   "source": [
    "def pairSum(arr, s):\n",
    "    n = len(arr)\n",
    "\n",
    "    # Used to store result.\n",
    "    ans = []\n",
    "    \n",
    "    # Checking sum for every element.\n",
    "    for i in range(n):\n",
    "        \n",
    "        for j in range(i + 1, n):\n",
    "            \n",
    "            if (arr[i] + arr[j] == s):\n",
    "                pair = [-1 for i in range(2)]\n",
    "                pair[0] = arr[i]\n",
    "                pair[1] = arr[j]\n",
    "                ans.append(pair)\n",
    "\n",
    "    # Used to store final sorted result.\n",
    "    res = [[-1 for j in range(2)] for i in range(len(ans))]\n",
    "    for i in range(len(ans)):\n",
    "        a = ans[i][0]\n",
    "        b = ans[i][1]\n",
    "        res[i][0] = min(a, b)\n",
    "        res[i][1] = max(a, b)\n",
    "\n",
    "    res = sorted(res, key=lambda x: x[0])\n",
    "\n",
    "    return res"
   ]
  }
 ],
 "metadata": {
  "kernelspec": {
   "display_name": "Python 3 (ipykernel)",
   "language": "python",
   "name": "python3"
  },
  "language_info": {
   "codemirror_mode": {
    "name": "ipython",
    "version": 3
   },
   "file_extension": ".py",
   "mimetype": "text/x-python",
   "name": "python",
   "nbconvert_exporter": "python",
   "pygments_lexer": "ipython3",
   "version": "3.9.7"
  }
 },
 "nbformat": 4,
 "nbformat_minor": 5
}
